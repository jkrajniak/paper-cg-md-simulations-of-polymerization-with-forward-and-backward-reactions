{
 "cells": [
  {
   "cell_type": "code",
   "execution_count": 7,
   "metadata": {
    "collapsed": true
   },
   "outputs": [],
   "source": [
    "import numpy as np\n",
    "from scipy.integrate import odeint\n",
    "import matplotlib.pyplot as plt\n",
    "import os\n",
    "import collections\n",
    "import functools\n",
    "import seaborn as sns\n",
    "from scipy.interpolate import interp1d\n",
    "import matplotlib as mpl\n",
    "\n",
    "pgf_with_custom_preamble = {\n",
    "    \"text.usetex\": False,    # use inline math for ticks\n",
    "    \"pgf.rcfonts\": False,   # don't setup fonts from rc parameters\n",
    "}\n",
    "\n",
    "def figsize(scale, height_ratio=1.0):\n",
    "    fig_width_pt = 344.43306                        # Get this from LaTeX using \\the\\textwidth\n",
    "    inches_per_pt = 1.0/72.27                       # Convert pt to inch\n",
    "    golden_mean = (np.sqrt(5.0)-1.0)/2.0            # Aesthetic ratio (you could change this)\n",
    "    fig_width = fig_width_pt*inches_per_pt*scale    # width in inches\n",
    "    fig_height = height_ratio*fig_width*golden_mean              # height in inches\n",
    "    fig_size = [fig_width,fig_height]\n",
    "    return fig_size\n",
    "\n",
    "pgf_with_latex = {                      # setup matplotlib to use latex for output\n",
    "    \"pgf.texsystem\": \"pdflatex\",        # change this if using xetex or lautex\n",
    "    \"text.usetex\": True,                # use LaTeX to write all text\n",
    "    \"font.family\": \"sans-serif\",\n",
    "    \"font.serif\": [],                   # blank entries should cause plots to inherit fonts from the document\n",
    "    \"font.sans-serif\": [],\n",
    "    \"font.monospace\": [],\n",
    "    \"axes.labelsize\": 10,               # LaTeX default is 10pt font.\n",
    "    \"font.size\": 10,\n",
    "    \"legend.fontsize\": 8,               # Make the legend/label fonts a little smaller\n",
    "    \"xtick.labelsize\": 8,\n",
    "    \"ytick.labelsize\": 8,\n",
    "    \"figure.figsize\": figsize(0.9),     # default fig size of 0.9 textwidth\n",
    "    \"pgf.preamble\": [\n",
    "        r\"\\usepackage[utf8x]{inputenc}\",    # use utf8 fonts becasue your computer can handle it :)\n",
    "        r\"\\usepackage[T1]{fontenc}\",        # plots will be generated using this preamble\n",
    "        ]\n",
    "    }\n",
    "\n",
    "sns.set_style('ticks')\n",
    "sns.set_context('poster')\n",
    "sns.set_palette('dark', 40)\n",
    "\n",
    "colors = sns.color_palette('dark', 40)\n",
    "\n",
    "mpl.rcParams.update(pgf_with_latex)\n",
    "\n",
    "# I make my own newfig and savefig functions\n",
    "def newfig(width):\n",
    "    plt.clf()\n",
    "    fig = plt.figure(figsize=figsize(width))\n",
    "    ax = fig.add_subplot(111)\n",
    "    return fig, ax\n",
    "\n",
    "def savefig(filename):\n",
    "    plt.savefig('{}.pgf'.format(filename))\n",
    "    plt.savefig('{}.pdf'.format(filename))\n",
    "\n",
    "%matplotlib inline"
   ]
  },
  {
   "cell_type": "code",
   "execution_count": 14,
   "metadata": {},
   "outputs": [
    {
     "name": "stdout",
     "output_type": "stream",
     "text": [
      "c gmx_85554_ee_rg.csv (92, 4)\n",
      "c gmx_201101_ee_rg.csv (116, 4)\n",
      "c gmx_488359_ee_rg.csv (166, 4)\n",
      "c gmx_796185_ee_rg.csv (154, 4)\n",
      "c gmx_932558_ee_rg.csv (154, 4)\n",
      "nc gmx_163467_ee_rg.csv (80, 4)\n",
      "nc gmx_159450_ee_rg.csv (114, 4)\n",
      "nc gmx_290611_ee_rg.csv (121, 4)\n",
      "nc gmx_450547_ee_rg.csv (111, 4)\n"
     ]
    }
   ],
   "source": [
    "rg_cycle, ee_cycle, rg_no_cycle, ee_no_cycle, chain_size_cycle, chain_size_no_cycle = [], [], [], [], [], []\n",
    "for f in os.listdir('cycle/'):\n",
    "    d = np.loadtxt(os.path.join('cycle', f))\n",
    "    ee_cycle.extend(d[:, 1])\n",
    "    rg_cycle.extend(d[:, 2])\n",
    "    print('c', f, d.shape)\n",
    "    chain_size_cycle.extend(d[:, 3])\n",
    "for f in os.listdir('no_cycle//'):\n",
    "    d = np.loadtxt(os.path.join('no_cycle', f))\n",
    "    ee_no_cycle.extend(d[:, 1])\n",
    "    rg_no_cycle.extend(d[:, 2])\n",
    "    print('nc', f, d.shape)\n",
    "    chain_size_no_cycle.extend(d[:, 3])"
   ]
  },
  {
   "cell_type": "code",
   "execution_count": 27,
   "metadata": {},
   "outputs": [
    {
     "data": {
      "text/plain": [
       "<matplotlib.figure.Figure at 0x7f8b4a79a4e0>"
      ]
     },
     "metadata": {},
     "output_type": "display_data"
    },
    {
     "data": {
      "image/png": "[encoded data removed]",
      "text/plain": [
       "<matplotlib.figure.Figure at 0x7f8b4a74af98>"
      ]
     },
     "metadata": {},
     "output_type": "display_data"
    }
   ],
   "source": [
    "fig, ax = newfig(0.9)\n",
    "_ = ax.hist(rg_cycle, normed=True, bins=25, label='with rings', color='k', histtype='step', alpha=1.0, linewidth=1.8)\n",
    "_ = ax.hist(rg_no_cycle, normed=True, bins=25, label='no rings', color='r', histtype='step', alpha=1.0, linewidth=1.8)\n",
    "ax.legend()\n",
    "ax.set_xlabel('R_g (nm)')\n",
    "ax.set_ylabel('P(R_g)')\n",
    "fig.tight_layout()\n",
    "savefig('rg_with_rings_no_rings')"
   ]
  },
  {
   "cell_type": "code",
   "execution_count": 25,
   "metadata": {},
   "outputs": [
    {
     "data": {
      "text/plain": [
       "<matplotlib.figure.Figure at 0x7f8b49ef1e80>"
      ]
     },
     "metadata": {},
     "output_type": "display_data"
    },
    {
     "data": {
      "image/png": "[encoded data removed]",
      "text/plain": [
       "<matplotlib.figure.Figure at 0x7f8b49f1ab70>"
      ]
     },
     "metadata": {},
     "output_type": "display_data"
    }
   ],
   "source": [
    "fig, ax = newfig(0.9)\n",
    "_ = ax.hist(ee_cycle, normed=True, bins=25, label='with rings', color='k', histtype='step', alpha=1.0, linewidth=1.8)\n",
    "_ = ax.hist(ee_no_cycle, normed=True, bins=25, label='no rings', color='r', histtype='step', alpha=1.0, linewidth=1.8)\n",
    "ax.legend()\n",
    "ax.set_xlabel('R_{ee} (nm)')\n",
    "ax.set_ylabel('P(R_{ee})')\n",
    "fig.tight_layout()\n",
    "savefig('ee_with_rings_no_rings')"
   ]
  },
  {
   "cell_type": "code",
   "execution_count": 29,
   "metadata": {},
   "outputs": [
    {
     "data": {
      "text/plain": [
       "<matplotlib.figure.Figure at 0x7f8b49c0dd68>"
      ]
     },
     "metadata": {},
     "output_type": "display_data"
    },
    {
     "data": {
      "image/png": "[encoded data removed]",
      "text/plain": [
       "<matplotlib.figure.Figure at 0x7f8b49f6c6d8>"
      ]
     },
     "metadata": {},
     "output_type": "display_data"
    }
   ],
   "source": [
    "fig, ax = newfig(0.9)\n",
    "_ = ax.hist(chain_size_cycle, normed=True, bins=25, label='with rings', color='k', histtype='step', alpha=1.0, linewidth=1.8)\n",
    "_ = ax.hist(chain_size_no_cycle, normed=True, bins=25, label='no rings', color='r', histtype='step', alpha=1.0, linewidth=1.8)\n",
    "ax.legend()\n",
    "ax.set_xlabel('number of CG beads in chain (n)')\n",
    "ax.set_ylabel('P(n)')\n",
    "fig.tight_layout()\n",
    "savefig('chain_size_rings_no_rings')"
   ]
  },
  {
   "cell_type": "code",
   "execution_count": null,
   "metadata": {
    "collapsed": true
   },
   "outputs": [],
   "source": []
  }
 ],
 "metadata": {
  "hide_input": false,
  "kernelspec": {
   "display_name": "Python 3",
   "language": "python",
   "name": "python3"
  },
  "language_info": {
   "codemirror_mode": {
    "name": "ipython",
    "version": 3
   },
   "file_extension": ".py",
   "mimetype": "text/x-python",
   "name": "python",
   "nbconvert_exporter": "python",
   "pygments_lexer": "ipython3",
   "version": "3.5.3"
  }
 },
 "nbformat": 4,
 "nbformat_minor": 2
}
