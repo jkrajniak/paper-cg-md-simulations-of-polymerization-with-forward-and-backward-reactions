{
 "cells": [
  {
   "cell_type": "markdown",
   "metadata": {},
   "source": [
    "# ESPP"
   ]
  },
  {
   "cell_type": "code",
   "execution_count": 1,
   "metadata": {
    "collapsed": true
   },
   "outputs": [],
   "source": [
    "r1 = np.array((0.0, 0.0, 0.0))\n",
    "r2 = np.array((2.0, 0, 0))\n",
    "r3 = np.array((2, 0, 2))\n",
    "r4 = np.array((2, 2, 2))"
   ]
  },
  {
   "cell_type": "code",
   "execution_count": 3,
   "metadata": {
    "collapsed": true
   },
   "outputs": [],
   "source": [
    "r21 = r2 - r1\n",
    "r32 = r3 - r2\n",
    "r43 = r4 - r3"
   ]
  },
  {
   "cell_type": "code",
   "execution_count": 7,
   "metadata": {
    "collapsed": false
   },
   "outputs": [],
   "source": [
    "cross_2132 = np.cross(r21, r32)\n",
    "cross_3243 = np.cross(r32, r43)"
   ]
  },
  {
   "cell_type": "code",
   "execution_count": 42,
   "metadata": {
    "collapsed": false
   },
   "outputs": [
    {
     "name": "stdout",
     "output_type": "stream",
     "text": [
      "[ 0. -4.  0.]\n",
      "[-4.  0.  0.]\n"
     ]
    }
   ],
   "source": [
    "print cross_2132\n",
    "print cross_3243"
   ]
  },
  {
   "cell_type": "code",
   "execution_count": 8,
   "metadata": {
    "collapsed": true
   },
   "outputs": [],
   "source": [
    "inv_2132 = 1.0/np.sqrt(np.dot(cross_2132, cross_2132))\n",
    "inv_3243 = 1.0/np.sqrt(np.dot(cross_3243, cross_3243))"
   ]
  },
  {
   "cell_type": "code",
   "execution_count": 43,
   "metadata": {
    "collapsed": false
   },
   "outputs": [
    {
     "name": "stdout",
     "output_type": "stream",
     "text": [
      "90.0\n",
      "[ -0.  -0. -16.]\n",
      "-90.0\n"
     ]
    }
   ],
   "source": [
    "cos_phi = (cross_2132.dot(cross_3243))*(inv_2132*inv_3243)\n",
    "phi = np.arccos(cos_phi)\n",
    "\n",
    "print np.rad2deg(phi)\n",
    "\n",
    "rcross = np.cross(cross_2132, cross_3243)\n",
    "print rcross\n",
    "signcheck = rcross.dot(r32)\n",
    "if signcheck < 0.0:\n",
    "    phi *= -1.0\n",
    "print np.rad2deg(phi)"
   ]
  },
  {
   "cell_type": "code",
   "execution_count": null,
   "metadata": {
    "collapsed": false
   },
   "outputs": [],
   "source": []
  },
  {
   "cell_type": "markdown",
   "metadata": {},
   "source": [
    "# LAMMPS"
   ]
  },
  {
   "cell_type": "code",
   "execution_count": 40,
   "metadata": {
    "collapsed": true
   },
   "outputs": [],
   "source": [
    "n123 = np.cross(r32, r21)\n",
    "n234 = np.cross(r32, r43)\n",
    "inv_123 = 1.0/np.sqrt(np.dot(n123, n123))\n",
    "inv_234 = 1.0/np.sqrt(np.dot(n234, n234))"
   ]
  },
  {
   "cell_type": "code",
   "execution_count": 41,
   "metadata": {
    "collapsed": false
   },
   "outputs": [
    {
     "name": "stdout",
     "output_type": "stream",
     "text": [
      "90.0\n",
      "270.0\n"
     ]
    }
   ],
   "source": [
    "cos_phi = -np.dot(n123*inv_123, n234*inv_234)\n",
    "\n",
    "phi = np.arccos(cos_phi)\n",
    "print np.rad2deg(phi)\n",
    "\n",
    "signcheck = np.dot(n123*inv_123, r43)\n",
    "if signcheck > 0.0:\n",
    "    phi *= -1.0\n",
    "    phi += 2.0*np.pi\n",
    "print np.rad2deg(phi)"
   ]
  },
  {
   "cell_type": "markdown",
   "metadata": {},
   "source": [
    "# Harmonic"
   ]
  },
  {
   "cell_type": "code",
   "execution_count": 44,
   "metadata": {
    "collapsed": true
   },
   "outputs": [],
   "source": [
    "deg = np.arange(-180, 180, 0.01)"
   ]
  },
  {
   "cell_type": "code",
   "execution_count": 53,
   "metadata": {
    "collapsed": true
   },
   "outputs": [],
   "source": [
    "phi0 = 100.0\n",
    "\n",
    "def computeEnergy(phi):\n",
    "    K = 1.0\n",
    "    diff = phi - phi0\n",
    "    if diff > 180:\n",
    "        diff -= 360.0\n",
    "    elif diff < -180:\n",
    "        diff += 360.0\n",
    "    return 0.5*K*diff**2"
   ]
  },
  {
   "cell_type": "code",
   "execution_count": 54,
   "metadata": {
    "collapsed": false
   },
   "outputs": [
    {
     "data": {
      "text/plain": [
       "[<matplotlib.lines.Line2D at 0x7fea98f7f7d0>]"
      ]
     },
     "execution_count": 54,
     "metadata": {},
     "output_type": "execute_result"
    },
    {
     "data": {
      "image/png": "[encoded data removed]",
      "text/plain": [
       "<matplotlib.figure.Figure at 0x7fea990c6150>"
      ]
     },
     "metadata": {},
     "output_type": "display_data"
    }
   ],
   "source": [
    "plt.plot(deg, map(computeEnergy, deg))"
   ]
  },
  {
   "cell_type": "code",
   "execution_count": null,
   "metadata": {
    "collapsed": true
   },
   "outputs": [],
   "source": []
  }
 ],
 "metadata": {
  "hide_input": false,
  "kernelspec": {
   "display_name": "Python 2",
   "language": "python",
   "name": "python2"
  },
  "language_info": {
   "codemirror_mode": {
    "name": "ipython",
    "version": 2
   },
   "file_extension": ".py",
   "mimetype": "text/x-python",
   "name": "python",
   "nbconvert_exporter": "python",
   "pygments_lexer": "ipython2",
   "version": "2.7.12+"
  }
 },
 "nbformat": 4,
 "nbformat_minor": 0
}
