{
 "cells": [
  {
   "cell_type": "code",
   "execution_count": 21,
   "metadata": {
    "collapsed": true
   },
   "outputs": [],
   "source": [
    "import cPickle\n",
    "import h5py\n",
    "import networkx as nx"
   ]
  },
  {
   "cell_type": "code",
   "execution_count": 23,
   "metadata": {
    "collapsed": false
   },
   "outputs": [],
   "source": [
    "h5 = h5py.File('data/para_long0_7644_traj.h5', 'r')"
   ]
  },
  {
   "cell_type": "code",
   "execution_count": 24,
   "metadata": {
    "collapsed": false
   },
   "outputs": [],
   "source": [
    "with open('all_fix_distances.pck', 'rb') as fdf:\n",
    "    fd = cPickle.load(fdf)"
   ]
  },
  {
   "cell_type": "code",
   "execution_count": 25,
   "metadata": {
    "collapsed": false
   },
   "outputs": [],
   "source": [
    "sp = [x for x in h5['/particles/atoms/species/value'][-1] if x != -1]\n",
    "st = [x for x in h5['/particles/atoms/state/value'][-1] if x != -1]\n",
    "pid2sp = {i: x for i, x in enumerate(sp, 1)}\n",
    "pid2st = {i: x for i, x in enumerate(st, 1)}"
   ]
  },
  {
   "cell_type": "code",
   "execution_count": 26,
   "metadata": {
    "collapsed": false
   },
   "outputs": [],
   "source": [
    "fd_sp = [map(pid2sp.get, x) for x in fd]"
   ]
  },
  {
   "cell_type": "code",
   "execution_count": 27,
   "metadata": {
    "collapsed": false
   },
   "outputs": [],
   "source": [
    "cl = sorted([tuple(sorted(b)) for b in h5['/connectivity/chem_bonds_0/value'][-1] if -1 not in b])\n",
    "stcl = [b for b in h5['/connectivity/bonds_0'] if -1 not in b]"
   ]
  },
  {
   "cell_type": "code",
   "execution_count": 28,
   "metadata": {
    "collapsed": true
   },
   "outputs": [],
   "source": [
    "g = nx.Graph()\n",
    "g.add_edges_from(cl)\n",
    "g.add_edges_from(stcl)"
   ]
  },
  {
   "cell_type": "code",
   "execution_count": 29,
   "metadata": {
    "collapsed": false
   },
   "outputs": [
    {
     "data": {
      "text/plain": [
       "383"
      ]
     },
     "execution_count": 29,
     "metadata": {},
     "output_type": "execute_result"
    }
   ],
   "source": [
    "len({k: v for k,v in g.degree().items() if v == 2 and k <= 1000})"
   ]
  },
  {
   "cell_type": "code",
   "execution_count": 30,
   "metadata": {
    "collapsed": false
   },
   "outputs": [
    {
     "data": {
      "text/plain": [
       "1145"
      ]
     },
     "execution_count": 30,
     "metadata": {},
     "output_type": "execute_result"
    }
   ],
   "source": [
    "len(set([tuple(sorted(b)) for b in cl]))"
   ]
  },
  {
   "cell_type": "code",
   "execution_count": 31,
   "metadata": {
    "collapsed": true
   },
   "outputs": [],
   "source": [
    "pidsE = [i for i, x in enumerate(sp, 1) if x == 4]\n",
    "pidsD = [i for i, x in enumerate(sp, 1) if x == 0]\n",
    "pidsA = [i for i, x in enumerate(sp, 1) if x == 1]\n",
    "pidsB = [i for i, x in enumerate(sp, 1) if x == 2]\n",
    "pidsC = [i for i, x in enumerate(sp, 1) if x == 3]"
   ]
  },
  {
   "cell_type": "code",
   "execution_count": 32,
   "metadata": {
    "collapsed": false
   },
   "outputs": [
    {
     "name": "stdout",
     "output_type": "stream",
     "text": [
      "762\n"
     ]
    }
   ],
   "source": [
    "print len(pidsE)"
   ]
  },
  {
   "cell_type": "code",
   "execution_count": 33,
   "metadata": {
    "collapsed": false
   },
   "outputs": [
    {
     "data": {
      "text/plain": [
       "383"
      ]
     },
     "execution_count": 33,
     "metadata": {},
     "output_type": "execute_result"
    }
   ],
   "source": [
    "gcl = nx.Graph()\n",
    "gcl.add_edges_from(cl)\n",
    "gcl.degree().values().count(2)"
   ]
  },
  {
   "cell_type": "code",
   "execution_count": 34,
   "metadata": {
    "collapsed": false
   },
   "outputs": [
    {
     "data": {
      "text/plain": [
       "379"
      ]
     },
     "execution_count": 34,
     "metadata": {},
     "output_type": "execute_result"
    }
   ],
   "source": [
    "len([i for i, v in pid2st.items() if i <= 1000 and v == 1])"
   ]
  },
  {
   "cell_type": "code",
   "execution_count": 35,
   "metadata": {
    "collapsed": false
   },
   "outputs": [
    {
     "name": "stdout",
     "output_type": "stream",
     "text": [
      "1145\n",
      "0\n"
     ]
    }
   ],
   "source": [
    "num_zero = 0\n",
    "pidsEleft = pidsE[:]\n",
    "for b in cl:\n",
    "    b_degree = map(gcl.degree().get, b)\n",
    "    b_sp = map(pid2sp.get, b)\n",
    "    b_st = map(pid2st.get, b)\n",
    "    if b_sp[0] == 4:\n",
    "        num_zero += 1\n",
    "        if b[0] in pidsEleft:\n",
    "            pidsEleft.remove(b[0])\n",
    "print num_zero\n",
    "print len(pidsEleft)"
   ]
  },
  {
   "cell_type": "code",
   "execution_count": 36,
   "metadata": {
    "collapsed": false
   },
   "outputs": [
    {
     "data": {
      "text/plain": [
       "[]"
      ]
     },
     "execution_count": 36,
     "metadata": {},
     "output_type": "execute_result"
    }
   ],
   "source": [
    "map(pid2sp.get, pidsEleft)"
   ]
  },
  {
   "cell_type": "code",
   "execution_count": 37,
   "metadata": {
    "collapsed": false
   },
   "outputs": [
    {
     "data": {
      "text/plain": [
       "[]"
      ]
     },
     "execution_count": 37,
     "metadata": {},
     "output_type": "execute_result"
    }
   ],
   "source": [
    "map(pid2st.get, pidsEleft)"
   ]
  },
  {
   "cell_type": "code",
   "execution_count": 38,
   "metadata": {
    "collapsed": false
   },
   "outputs": [
    {
     "data": {
      "text/plain": [
       "383"
      ]
     },
     "execution_count": 38,
     "metadata": {},
     "output_type": "execute_result"
    }
   ],
   "source": [
    "len([x for k, v in pid2st.items() if k <= 1000 and v == 0])"
   ]
  },
  {
   "cell_type": "code",
   "execution_count": 39,
   "metadata": {
    "collapsed": false
   },
   "outputs": [
    {
     "data": {
      "text/plain": [
       "[]"
      ]
     },
     "execution_count": 39,
     "metadata": {},
     "output_type": "execute_result"
    }
   ],
   "source": [
    "[b for b in cl if b[0] in pidsEleft or b[0] in pidsEleft]"
   ]
  },
  {
   "cell_type": "code",
   "execution_count": 40,
   "metadata": {
    "collapsed": false
   },
   "outputs": [
    {
     "data": {
      "text/plain": [
       "[]"
      ]
     },
     "execution_count": 40,
     "metadata": {},
     "output_type": "execute_result"
    }
   ],
   "source": [
    "pidsEleft"
   ]
  },
  {
   "cell_type": "code",
   "execution_count": 41,
   "metadata": {
    "collapsed": false
   },
   "outputs": [
    {
     "name": "stdout",
     "output_type": "stream",
     "text": [
      "[0, 500, 1000, 1500, 2000, 2500, 3000, 3500, 4000, 4500, 5000, 5500, 6000, 6500, 7000, 7500, 8000, 8500, 9000, 9500, 10000, 10500, 11000, 11500, 12000]\n",
      "0 [] 0 2 0 {}\n",
      "500 [] 0 2 0 {}\n",
      "1000 [array([  68, 3566], dtype=int32)] 4 1 1 {3566: {}}\n",
      "1500 [array([  68, 3566], dtype=int32)] 4 1 1 {3566: {}}\n",
      "2000 [array([  68, 3566], dtype=int32)] 4 1 1 {3566: {}}\n",
      "2500 [array([  68, 3566], dtype=int32)] 4 1 1 {3566: {}}\n",
      "3000 [array([  68, 3566], dtype=int32), array([  68, 2774], dtype=int32)] 4 0 2 {2774: {}, 3566: {}}\n",
      "3500 [array([  68, 3566], dtype=int32), array([  68, 2774], dtype=int32)] 4 0 2 {2774: {}, 3566: {}}\n",
      "4000 [array([  68, 3566], dtype=int32), array([  68, 2774], dtype=int32)] 4 0 2 {2774: {}, 3566: {}}\n",
      "4500 [array([  68, 3566], dtype=int32), array([  68, 2774], dtype=int32)] 4 0 2 {2774: {}, 3566: {}}\n",
      "5000 [] 0 2 0 {}\n",
      "5500 [] 0 2 0 {}\n",
      "6000 [array([  68, 2774], dtype=int32)] 4 1 1 {2774: {}}\n",
      "6500 [array([  68, 2774], dtype=int32)] 4 1 1 {2774: {}}\n",
      "7000 [array([  68, 2774], dtype=int32)] 4 1 1 {2774: {}}\n",
      "7500 [array([  68, 2774], dtype=int32)] 4 1 1 {2774: {}}\n",
      "8000 [array([  68, 2774], dtype=int32)] 4 1 1 {2774: {}}\n",
      "8500 [array([  68, 2774], dtype=int32)] 4 1 1 {2774: {}}\n",
      "9000 [array([  68, 2774], dtype=int32)] 4 1 1 {2774: {}}\n",
      "9500 [array([  68, 2774], dtype=int32)] 4 1 1 {2774: {}}\n",
      "10000 [array([  68, 2774], dtype=int32), array([  68, 3566], dtype=int32)] 4 0 2 {3566: {}, 2774: {}}\n",
      "10500 [array([  68, 2774], dtype=int32), array([  68, 3566], dtype=int32)] 4 0 2 {3566: {}, 2774: {}}\n",
      "11000 [array([  68, 2774], dtype=int32), array([  68, 3566], dtype=int32)] 4 0 2 {3566: {}, 2774: {}}\n",
      "11500 [array([  68, 2774], dtype=int32), array([  68, 3566], dtype=int32)] 4 0 2 {3566: {}, 2774: {}}\n",
      "12000 [array([  68, 2774], dtype=int32), array([  68, 3566], dtype=int32)] 4 0 2 {3566: {}, 2774: {}}\n"
     ]
    }
   ],
   "source": [
    "observe_pid = 68\n",
    "clsubset = spsubset = stsubset = None\n",
    "spstep = list(h5['/particles/atoms/species/step'])\n",
    "print spstep\n",
    "for tidx in range(h5['/connectivity/chem_bonds_0/value'].shape[0]):\n",
    "    clsubset = h5['/connectivity/chem_bonds_0/value'][tidx]\n",
    "    g = nx.Graph()\n",
    "    g.add_nodes_from(range(1, 6001))\n",
    "    g.add_edges_from(clsubset)\n",
    "    g.add_edges_from(stcl)\n",
    "    step = h5['/connectivity/chem_bonds_0/step'][tidx]\n",
    "    trjidx = tidx\n",
    "    spsubset = h5['/particles/atoms/species/value'][trjidx]\n",
    "    stsubset = h5['/particles/atoms/state/value'][trjidx]\n",
    "    print step, [b for b in clsubset if observe_pid in b],spsubset[observe_pid-1], stsubset[observe_pid-1], g.degree()[observe_pid], g.edge[observe_pid]"
   ]
  },
  {
   "cell_type": "code",
   "execution_count": null,
   "metadata": {
    "collapsed": false
   },
   "outputs": [],
   "source": [
    "g.edge[observe_pid]"
   ]
  },
  {
   "cell_type": "code",
   "execution_count": null,
   "metadata": {
    "collapsed": true
   },
   "outputs": [],
   "source": []
  }
 ],
 "metadata": {
  "hide_input": false,
  "kernelspec": {
   "display_name": "Python 2",
   "language": "python",
   "name": "python2"
  },
  "language_info": {
   "codemirror_mode": {
    "name": "ipython",
    "version": 2
   },
   "file_extension": ".py",
   "mimetype": "text/x-python",
   "name": "python",
   "nbconvert_exporter": "python",
   "pygments_lexer": "ipython2",
   "version": "2.7.12+"
  }
 },
 "nbformat": 4,
 "nbformat_minor": 0
}
